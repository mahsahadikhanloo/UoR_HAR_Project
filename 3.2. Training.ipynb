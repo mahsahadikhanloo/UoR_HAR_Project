{
 "cells": [
  {
   "cell_type": "markdown",
   "id": "22d5dc42",
   "metadata": {},
   "source": [
    "# Trainig Deep Models"
   ]
  },
  {
   "cell_type": "code",
   "execution_count": 145,
   "id": "75dca30b",
   "metadata": {},
   "outputs": [],
   "source": [
    "import os\n",
    "\n",
    "import numpy as np\n",
    "import pandas as pd\n",
    "from scipy import stats\n",
    "\n",
    "import matplotlib.pyplot as plt\n",
    "from matplotlib.lines import Line2D \n",
    "\n",
    "from sklearn import preprocessing\n",
    "from sklearn.model_selection import train_test_split\n",
    "from sklearn.metrics import confusion_matrix\n",
    "\n",
    "from tensorflow.keras.utils import to_categorical\n",
    "from tensorflow import keras\n",
    "from tensorflow.keras import layers\n",
    "from tensorflow.keras.optimizers import Adam\n",
    "\n",
    "import warnings\n",
    "warnings.filterwarnings(\"ignore\")"
   ]
  },
  {
   "cell_type": "markdown",
   "id": "888ba951",
   "metadata": {},
   "source": [
    "## 1. Configurations"
   ]
  },
  {
   "cell_type": "code",
   "execution_count": 146,
   "id": "0f8434e2",
   "metadata": {},
   "outputs": [],
   "source": [
    "RAW_BASE_DIR = \"C:/Others/Mahsa-UoR/Project/wisdm-dataset/raw/\"\n",
    "RAW_COL_NAMES = [\"SubjectID\", \"ActivityCode\", \"Timestamp\", \"X\", \"Y\", \"Z\"]\n",
    "PROCESS_BASE_DIR = \"C:/Others/Mahsa-UoR/Project/wisdm-dataset/processed\"\n",
    "ACTIVITIES_MAP = {\"A\": \"Walking\",\"B\": \"Jogging\",\"C\": \"Stairs\",\"D\": \"Sitting\",\"E\": \"Standing\"}\n",
    "\n",
    "TRAIN_COLUMNS = [\"X_std\", \"Y_std\", \"Z_std\"]\n",
    "TEST_SIZE = 0.33\n",
    "VAL_SIZE = 0.20\n",
    "LABELS_LEN = len(ACTIVITIES_MAP)\n",
    "EPOCH = 50\n",
    "BATCH_SIZE = 64\n",
    "FRAME_SIZE = 100\n",
    "TIME_STEP = 40\n",
    "METRICS = [keras.metrics.Accuracy(), keras.metrics.Precision(), keras.metrics.Recall(), keras.metrics.AUC()]"
   ]
  },
  {
   "cell_type": "markdown",
   "id": "41669cdd",
   "metadata": {},
   "source": [
    "### 1.2 Plot Functions"
   ]
  },
  {
   "cell_type": "code",
   "execution_count": 147,
   "id": "4e785952",
   "metadata": {},
   "outputs": [],
   "source": [
    "def ploat_learning_cruve(history):\n",
    "    fig, ax = plt.subplots(1,2, figsize=(15, 3))\n",
    "    loss = history.history[\"loss\"]\n",
    "    val_loss = history.history[\"val_loss\"]\n",
    "    epochs = range(1, len(loss) + 1)\n",
    "    ax[0].plot(epochs, loss, \"bo\", label=\"Training loss\")\n",
    "    ax[0].plot(epochs, val_loss, \"b\", label=\"Validation loss\")\n",
    "    ax[0].set_title(f\"Training and validation loss Watch Accelerometer\")\n",
    "    ax[0].set_xlabel(\"Epochs\")\n",
    "    ax[0].set_ylabel(\"Loss\")\n",
    "    ax[0].legend(loc='upper left')\n",
    "    \n",
    "    acc = history.history[\"accuracy\"]\n",
    "    val_acc = history.history[\"val_accuracy\"]\n",
    "    ax[1].plot(epochs, acc, \"bo\", label=\"Training accuracy\")\n",
    "    ax[1].plot(epochs, val_acc, \"b\", label=\"Validation accuracy\")\n",
    "    ax[1].set_title(f\"Training and validation accuracy Watch Accelerometer\")\n",
    "    ax[1].set_xlabel(\"Epochs\")\n",
    "    ax[1].set_ylabel(\"Accuracy\")\n",
    "    ax[1].legend(loc='upper left')\n",
    "    plt.show()\n",
    "\n",
    "def plot_confusion_matrix(test_data, test_labels, test_labels_prediction):\n",
    "    cm = confusion_matrix(test_labels.argmax(axis=1), test_labels_prediction.argmax(axis=1) , normalize='pred')\n",
    "    fig = plt.figure()\n",
    "    ax = fig.add_subplot(111)\n",
    "    cax = ax.matshow(cm)\n",
    "    plt.title('Confusion matrix of the classifier')\n",
    "    fig.colorbar(cax)\n",
    "    ax.set_xticklabels(['']+list(ACTIVITIES_MAP.values()))\n",
    "    ax.set_yticklabels(['']+list(ACTIVITIES_MAP.values()))\n",
    "    plt.xlabel('Predicted')\n",
    "    plt.ylabel('True')\n",
    "    plt.show()"
   ]
  },
  {
   "cell_type": "markdown",
   "id": "05c75cff",
   "metadata": {},
   "source": [
    "## 2. Load Input"
   ]
  },
  {
   "cell_type": "code",
   "execution_count": 148,
   "id": "91d88c88",
   "metadata": {},
   "outputs": [],
   "source": [
    "def load_and_clean_csv(path):\n",
    "    df = pd.read_csv(path)\n",
    "    df[\"ActivityCode\"] = df[\"ActivityCode\"].astype('string')\n",
    "    df[\"X\"] = df[\"X\"].astype('float32')\n",
    "    df[\"Y\"] = df[\"Y\"].astype('float32')\n",
    "    df[\"Z\"] = df[\"Z\"].apply(lambda x: x.replace(';', '')).astype('float32')\n",
    "    return df"
   ]
  },
  {
   "cell_type": "code",
   "execution_count": 149,
   "id": "fbd716f1",
   "metadata": {},
   "outputs": [
    {
     "data": {
      "text/html": [
       "<div>\n",
       "<style scoped>\n",
       "    .dataframe tbody tr th:only-of-type {\n",
       "        vertical-align: middle;\n",
       "    }\n",
       "\n",
       "    .dataframe tbody tr th {\n",
       "        vertical-align: top;\n",
       "    }\n",
       "\n",
       "    .dataframe thead th {\n",
       "        text-align: right;\n",
       "    }\n",
       "</style>\n",
       "<table border=\"1\" class=\"dataframe\">\n",
       "  <thead>\n",
       "    <tr style=\"text-align: right;\">\n",
       "      <th></th>\n",
       "      <th>SubjectID</th>\n",
       "      <th>ActivityCode</th>\n",
       "      <th>Timestamp</th>\n",
       "      <th>X</th>\n",
       "      <th>Y</th>\n",
       "      <th>Z</th>\n",
       "    </tr>\n",
       "  </thead>\n",
       "  <tbody>\n",
       "    <tr>\n",
       "      <th>0</th>\n",
       "      <td>1600</td>\n",
       "      <td>A</td>\n",
       "      <td>90426708196641</td>\n",
       "      <td>7.091625</td>\n",
       "      <td>-0.591667</td>\n",
       "      <td>8.195502</td>\n",
       "    </tr>\n",
       "    <tr>\n",
       "      <th>1</th>\n",
       "      <td>1600</td>\n",
       "      <td>A</td>\n",
       "      <td>90426757696641</td>\n",
       "      <td>4.972757</td>\n",
       "      <td>-0.158317</td>\n",
       "      <td>6.696732</td>\n",
       "    </tr>\n",
       "    <tr>\n",
       "      <th>2</th>\n",
       "      <td>1600</td>\n",
       "      <td>A</td>\n",
       "      <td>90426807196641</td>\n",
       "      <td>3.253720</td>\n",
       "      <td>-0.191835</td>\n",
       "      <td>6.107758</td>\n",
       "    </tr>\n",
       "    <tr>\n",
       "      <th>3</th>\n",
       "      <td>1600</td>\n",
       "      <td>A</td>\n",
       "      <td>90426856696641</td>\n",
       "      <td>2.801216</td>\n",
       "      <td>-0.155922</td>\n",
       "      <td>5.997625</td>\n",
       "    </tr>\n",
       "    <tr>\n",
       "      <th>4</th>\n",
       "      <td>1600</td>\n",
       "      <td>A</td>\n",
       "      <td>90426906196641</td>\n",
       "      <td>3.770868</td>\n",
       "      <td>-1.051354</td>\n",
       "      <td>7.731027</td>\n",
       "    </tr>\n",
       "  </tbody>\n",
       "</table>\n",
       "</div>"
      ],
      "text/plain": [
       "   SubjectID ActivityCode       Timestamp         X         Y         Z\n",
       "0       1600            A  90426708196641  7.091625 -0.591667  8.195502\n",
       "1       1600            A  90426757696641  4.972757 -0.158317  6.696732\n",
       "2       1600            A  90426807196641  3.253720 -0.191835  6.107758\n",
       "3       1600            A  90426856696641  2.801216 -0.155922  5.997625\n",
       "4       1600            A  90426906196641  3.770868 -1.051354  7.731027"
      ]
     },
     "execution_count": 149,
     "metadata": {},
     "output_type": "execute_result"
    }
   ],
   "source": [
    "watch_accel = load_and_clean_csv(os.path.join(PROCESS_BASE_DIR, \"watch_accel.csv\"))\n",
    "watch_accel = watch_accel[watch_accel[\"ActivityCode\"].isin(ACTIVITIES_MAP)]\n",
    "watch_accel.head()"
   ]
  },
  {
   "cell_type": "markdown",
   "id": "7f5be917",
   "metadata": {},
   "source": [
    "# 3. Transform"
   ]
  },
  {
   "cell_type": "markdown",
   "id": "c1734a17",
   "metadata": {},
   "source": [
    "## 3.1 Label Endoder"
   ]
  },
  {
   "cell_type": "code",
   "execution_count": 150,
   "id": "43e140b4",
   "metadata": {},
   "outputs": [],
   "source": [
    "label_encoder = preprocessing.LabelEncoder()\n",
    "label_encoder.fit(list(ACTIVITIES_MAP))\n",
    "\n",
    "watch_accel[\"ActivityCode\"] = label_encoder.transform(watch_accel[\"ActivityCode\"])"
   ]
  },
  {
   "cell_type": "markdown",
   "id": "93ea1a2e",
   "metadata": {},
   "source": [
    "## 3.1 Standard Scalar"
   ]
  },
  {
   "cell_type": "code",
   "execution_count": 151,
   "id": "0bba9ee9",
   "metadata": {},
   "outputs": [],
   "source": [
    "std_scaler = preprocessing.StandardScaler()\n",
    "\n",
    "watch_accel[[\"X_std\", \"Y_std\", \"Z_std\"]] = std_scaler.fit_transform(watch_accel[[\"X\", \"Y\", \"Z\"]])"
   ]
  },
  {
   "cell_type": "code",
   "execution_count": 152,
   "id": "8d34e4b2",
   "metadata": {},
   "outputs": [
    {
     "data": {
      "text/plain": [
       "array([<AxesSubplot:title={'center':'X_std'}>,\n",
       "       <AxesSubplot:title={'center':'Y_std'}>,\n",
       "       <AxesSubplot:title={'center':'Z_std'}>], dtype=object)"
      ]
     },
     "execution_count": 152,
     "metadata": {},
     "output_type": "execute_result"
    },
    {
     "data": {
      "image/png": "[encoded data removed]",
      "text/plain": [
       "<Figure size 1080x216 with 3 Axes>"
      ]
     },
     "metadata": {
      "needs_background": "light"
     },
     "output_type": "display_data"
    }
   ],
   "source": [
    "fig, ax = plt.subplots(1,3, figsize=(15, 3))\n",
    "watch_accel[[\"X_std\", \"Y_std\", \"Z_std\"]].hist(ax= ax)"
   ]
  },
  {
   "cell_type": "markdown",
   "id": "3c01aa91",
   "metadata": {},
   "source": [
    "## 4 Deep Models"
   ]
  },
  {
   "cell_type": "markdown",
   "id": "e1b969a9",
   "metadata": {},
   "source": [
    "### 4.1 Dense"
   ]
  },
  {
   "cell_type": "code",
   "execution_count": 10,
   "id": "0a02a884",
   "metadata": {},
   "outputs": [],
   "source": [
    "def split_data_dense(df, label_name = \"ActivityCode\", test_size=0.33, train_columns = TRAIN_COLUMNS ):\n",
    "    X_train_val, X_test, y_train_val, y_test = train_test_split(df, df[label_name], test_size=TEST_SIZE, random_state=42, shuffle=True)\n",
    "    X_train, X_val, y_train, y_val = train_test_split(X_train_val, y_train_val, test_size=VAL_SIZE, random_state=42, shuffle=True)\n",
    "    y_train, y_test, y_val = to_categorical(y_train), to_categorical(y_test), to_categorical(y_val)\n",
    "    return (X_train[train_columns], y_train), (X_test[train_columns], y_test), (X_val[train_columns], y_val)"
   ]
  },
  {
   "cell_type": "code",
   "execution_count": 11,
   "id": "7eb6482f",
   "metadata": {},
   "outputs": [],
   "source": [
    "(train_data, train_labels),(test_data, test_labels),(val_data, val_labels)= split_data_dense(watch_accel)"
   ]
  },
  {
   "cell_type": "code",
   "execution_count": 12,
   "id": "46b9e279",
   "metadata": {},
   "outputs": [
    {
     "name": "stdout",
     "output_type": "stream",
     "text": [
      "Inputs: Train: (564483, 3), Validation: (141121, 3), Test: (347537, 3)\n",
      "Labels: Train: (564483, 5), Validation: (141121, 5), Test: (347537, 5)\n"
     ]
    }
   ],
   "source": [
    "print(f\"Inputs: Train: {train_data.shape}, Validation: {val_data.shape}, Test: {test_data.shape}\")\n",
    "print(f\"Labels: Train: {train_labels.shape}, Validation: {val_labels.shape}, Test: {test_labels.shape}\")"
   ]
  },
  {
   "cell_type": "markdown",
   "id": "fff8edec",
   "metadata": {},
   "source": [
    "#### 4.1.1 Build Dense Model"
   ]
  },
  {
   "cell_type": "code",
   "execution_count": 13,
   "id": "50514f16",
   "metadata": {},
   "outputs": [
    {
     "name": "stdout",
     "output_type": "stream",
     "text": [
      "Model: \"sequential\"\n",
      "_________________________________________________________________\n",
      " Layer (type)                Output Shape              Param #   \n",
      "=================================================================\n",
      " dense (Dense)               (None, 64)                256       \n",
      "                                                                 \n",
      " dense_1 (Dense)             (None, 64)                4160      \n",
      "                                                                 \n",
      " dense_2 (Dense)             (None, 5)                 325       \n",
      "                                                                 \n",
      "=================================================================\n",
      "Total params: 4,741\n",
      "Trainable params: 4,741\n",
      "Non-trainable params: 0\n",
      "_________________________________________________________________\n"
     ]
    }
   ],
   "source": [
    "dense_model = keras.Sequential([\n",
    "    layers.Dense(64, activation=\"relu\", input_shape = (3, )),\n",
    "    layers.Dense(64, activation=\"relu\"),\n",
    "    layers.Dense(LABELS_LEN, activation=\"softmax\")\n",
    "])\n",
    "dense_model.compile(optimizer=\"rmsprop\", loss=\"categorical_crossentropy\", metrics= METRICS)\n",
    "dense_model.summary()"
   ]
  },
  {
   "cell_type": "markdown",
   "id": "52c3c05a",
   "metadata": {},
   "source": [
    "#### 4.1.2 Train Dense Model"
   ]
  },
  {
   "cell_type": "code",
   "execution_count": 29,
   "id": "1a05eb24",
   "metadata": {},
   "outputs": [
    {
     "name": "stdout",
     "output_type": "stream",
     "text": [
      "Epoch 1/50\n",
      "8821/8821 [==============================] - 9s 1ms/step - loss: 0.7515 - accuracy: 3.8761e-04 - precision: 0.7712 - recall: 0.5998 - auc: 0.9286 - val_loss: 0.7594 - val_accuracy: 5.3429e-04 - val_precision: 0.7658 - val_recall: 0.6020 - val_auc: 0.9273\n",
      "Epoch 2/50\n",
      "8821/8821 [==============================] - 14s 2ms/step - loss: 0.7520 - accuracy: 4.0391e-04 - precision: 0.7710 - recall: 0.5996 - auc: 0.9285 - val_loss: 0.7566 - val_accuracy: 5.4421e-04 - val_precision: 0.7751 - val_recall: 0.5958 - val_auc: 0.9280\n",
      "Epoch 3/50\n",
      "8821/8821 [==============================] - 14s 2ms/step - loss: 0.7522 - accuracy: 4.5316e-04 - precision: 0.7713 - recall: 0.6000 - auc: 0.9285 - val_loss: 0.7859 - val_accuracy: 4.1666e-04 - val_precision: 0.7462 - val_recall: 0.6057 - val_auc: 0.9227\n",
      "Epoch 4/50\n",
      "8821/8821 [==============================] - 12s 1ms/step - loss: 0.7529 - accuracy: 4.9284e-04 - precision: 0.7711 - recall: 0.6003 - auc: 0.9284 - val_loss: 0.7740 - val_accuracy: 6.5192e-04 - val_precision: 0.7632 - val_recall: 0.5977 - val_auc: 0.9250\n",
      "Epoch 5/50\n",
      "8821/8821 [==============================] - 11s 1ms/step - loss: 0.7533 - accuracy: 5.0914e-04 - precision: 0.7710 - recall: 0.5991 - auc: 0.9284 - val_loss: 0.7596 - val_accuracy: 6.4767e-04 - val_precision: 0.7650 - val_recall: 0.6028 - val_auc: 0.9273\n",
      "Epoch 6/50\n",
      "8821/8821 [==============================] - 13s 1ms/step - loss: 0.7538 - accuracy: 6.1437e-04 - precision: 0.7713 - recall: 0.5993 - auc: 0.9284 - val_loss: 0.7554 - val_accuracy: 8.9852e-04 - val_precision: 0.7688 - val_recall: 0.6030 - val_auc: 0.9282\n",
      "Epoch 7/50\n",
      "8821/8821 [==============================] - 14s 2ms/step - loss: 0.7543 - accuracy: 6.7247e-04 - precision: 0.7715 - recall: 0.5993 - auc: 0.9282 - val_loss: 0.7679 - val_accuracy: 6.8310e-04 - val_precision: 0.7576 - val_recall: 0.6046 - val_auc: 0.9259\n",
      "Epoch 8/50\n",
      "8821/8821 [==============================] - 13s 1ms/step - loss: 0.7544 - accuracy: 7.3554e-04 - precision: 0.7713 - recall: 0.5992 - auc: 0.9283 - val_loss: 0.7594 - val_accuracy: 7.3412e-04 - val_precision: 0.7613 - val_recall: 0.6053 - val_auc: 0.9274\n",
      "Epoch 9/50\n",
      "8821/8821 [==============================] - 13s 1ms/step - loss: 0.7552 - accuracy: 7.4936e-04 - precision: 0.7710 - recall: 0.5989 - auc: 0.9281 - val_loss: 0.7811 - val_accuracy: 6.1082e-04 - val_precision: 0.7700 - val_recall: 0.5817 - val_auc: 0.9231\n",
      "Epoch 10/50\n",
      "8821/8821 [==============================] - 12s 1ms/step - loss: 0.7554 - accuracy: 7.9365e-04 - precision: 0.7713 - recall: 0.5980 - auc: 0.9281 - val_loss: 0.8102 - val_accuracy: 9.4387e-04 - val_precision: 0.7426 - val_recall: 0.5882 - val_auc: 0.9187\n",
      "Epoch 11/50\n",
      "8821/8821 [==============================] - 11s 1ms/step - loss: 0.7555 - accuracy: 9.0348e-04 - precision: 0.7710 - recall: 0.5985 - auc: 0.9281 - val_loss: 0.7793 - val_accuracy: 9.4529e-04 - val_precision: 0.7516 - val_recall: 0.5999 - val_auc: 0.9245\n",
      "Epoch 12/50\n",
      "8821/8821 [==============================] - 12s 1ms/step - loss: 0.7568 - accuracy: 0.0010 - precision: 0.7708 - recall: 0.5986 - auc: 0.9280 - val_loss: 0.7834 - val_accuracy: 0.0014 - val_precision: 0.7641 - val_recall: 0.5842 - val_auc: 0.9236\n",
      "Epoch 13/50\n",
      "8821/8821 [==============================] - 12s 1ms/step - loss: 0.7576 - accuracy: 0.0013 - precision: 0.7710 - recall: 0.5987 - auc: 0.9279 - val_loss: 0.7567 - val_accuracy: 0.0013 - val_precision: 0.7664 - val_recall: 0.6054 - val_auc: 0.9279\n",
      "Epoch 14/50\n",
      "8821/8821 [==============================] - 12s 1ms/step - loss: 0.7582 - accuracy: 0.0014 - precision: 0.7708 - recall: 0.5983 - auc: 0.9278 - val_loss: 0.7639 - val_accuracy: 0.0013 - val_precision: 0.7578 - val_recall: 0.5775 - val_auc: 0.9258\n",
      "Epoch 15/50\n",
      "8821/8821 [==============================] - 10s 1ms/step - loss: 0.7588 - accuracy: 0.0014 - precision: 0.7700 - recall: 0.5986 - auc: 0.9277 - val_loss: 0.7593 - val_accuracy: 0.0015 - val_precision: 0.7700 - val_recall: 0.6000 - val_auc: 0.9278\n",
      "Epoch 16/50\n",
      "8821/8821 [==============================] - 10s 1ms/step - loss: 0.7596 - accuracy: 0.0016 - precision: 0.7692 - recall: 0.5984 - auc: 0.9277 - val_loss: 0.7719 - val_accuracy: 0.0019 - val_precision: 0.7587 - val_recall: 0.6059 - val_auc: 0.9263\n",
      "Epoch 17/50\n",
      "8821/8821 [==============================] - 11s 1ms/step - loss: 0.7607 - accuracy: 0.0018 - precision: 0.7688 - recall: 0.5998 - auc: 0.9276 - val_loss: 0.7839 - val_accuracy: 0.0018 - val_precision: 0.7571 - val_recall: 0.6017 - val_auc: 0.9237\n",
      "Epoch 18/50\n",
      "8821/8821 [==============================] - 10s 1ms/step - loss: 0.7616 - accuracy: 0.0018 - precision: 0.7682 - recall: 0.6004 - auc: 0.9275 - val_loss: 0.7793 - val_accuracy: 0.0018 - val_precision: 0.7646 - val_recall: 0.5937 - val_auc: 0.9248\n",
      "Epoch 19/50\n",
      "8821/8821 [==============================] - 11s 1ms/step - loss: 0.7637 - accuracy: 0.0020 - precision: 0.7678 - recall: 0.5999 - auc: 0.9273 - val_loss: 0.7577 - val_accuracy: 0.0018 - val_precision: 0.7702 - val_recall: 0.6035 - val_auc: 0.9289\n",
      "Epoch 20/50\n",
      "8821/8821 [==============================] - 11s 1ms/step - loss: 0.7642 - accuracy: 0.0020 - precision: 0.7670 - recall: 0.6003 - auc: 0.9273 - val_loss: 0.7764 - val_accuracy: 0.0025 - val_precision: 0.7614 - val_recall: 0.5945 - val_auc: 0.9258\n",
      "Epoch 21/50\n",
      "8821/8821 [==============================] - 11s 1ms/step - loss: 0.7658 - accuracy: 0.0021 - precision: 0.7670 - recall: 0.6009 - auc: 0.9272 - val_loss: 0.8004 - val_accuracy: 0.0024 - val_precision: 0.7552 - val_recall: 0.6070 - val_auc: 0.9225\n",
      "Epoch 22/50\n",
      "8821/8821 [==============================] - 13s 2ms/step - loss: 0.7659 - accuracy: 0.0021 - precision: 0.7671 - recall: 0.6013 - auc: 0.9271 - val_loss: 0.7865 - val_accuracy: 0.0025 - val_precision: 0.7581 - val_recall: 0.6120 - val_auc: 0.9246\n",
      "Epoch 23/50\n",
      "8821/8821 [==============================] - 13s 2ms/step - loss: 0.7666 - accuracy: 0.0020 - precision: 0.7669 - recall: 0.6010 - auc: 0.9270 - val_loss: 0.7812 - val_accuracy: 0.0026 - val_precision: 0.7726 - val_recall: 0.5824 - val_auc: 0.9245\n",
      "Epoch 24/50\n",
      "8821/8821 [==============================] - 15s 2ms/step - loss: 0.7665 - accuracy: 0.0020 - precision: 0.7660 - recall: 0.6016 - auc: 0.9270 - val_loss: 0.7905 - val_accuracy: 0.0020 - val_precision: 0.7558 - val_recall: 0.6038 - val_auc: 0.9230\n",
      "Epoch 25/50\n",
      "8821/8821 [==============================] - 14s 2ms/step - loss: 0.7667 - accuracy: 0.0020 - precision: 0.7661 - recall: 0.6010 - auc: 0.9269 - val_loss: 0.7817 - val_accuracy: 0.0022 - val_precision: 0.7528 - val_recall: 0.5883 - val_auc: 0.9246\n",
      "Epoch 26/50\n",
      "8821/8821 [==============================] - 14s 2ms/step - loss: 0.7671 - accuracy: 0.0021 - precision: 0.7669 - recall: 0.6007 - auc: 0.9269 - val_loss: 0.7663 - val_accuracy: 0.0021 - val_precision: 0.7648 - val_recall: 0.6027 - val_auc: 0.9270\n",
      "Epoch 27/50\n",
      "8821/8821 [==============================] - 14s 2ms/step - loss: 0.7670 - accuracy: 0.0022 - precision: 0.7660 - recall: 0.6001 - auc: 0.9268 - val_loss: 0.7768 - val_accuracy: 0.0020 - val_precision: 0.7581 - val_recall: 0.6038 - val_auc: 0.9251\n",
      "Epoch 28/50\n",
      "8821/8821 [==============================] - 15s 2ms/step - loss: 0.7678 - accuracy: 0.0026 - precision: 0.7674 - recall: 0.5990 - auc: 0.9267 - val_loss: 0.7684 - val_accuracy: 0.0035 - val_precision: 0.7583 - val_recall: 0.6085 - val_auc: 0.9268\n",
      "Epoch 29/50\n",
      "8821/8821 [==============================] - 13s 1ms/step - loss: 0.7693 - accuracy: 0.0031 - precision: 0.7667 - recall: 0.5983 - auc: 0.9265 - val_loss: 0.7645 - val_accuracy: 0.0037 - val_precision: 0.7668 - val_recall: 0.6060 - val_auc: 0.9275\n",
      "Epoch 30/50\n",
      "8821/8821 [==============================] - 13s 1ms/step - loss: 0.7695 - accuracy: 0.0033 - precision: 0.7665 - recall: 0.5978 - auc: 0.9264 - val_loss: 0.7814 - val_accuracy: 0.0032 - val_precision: 0.7609 - val_recall: 0.5911 - val_auc: 0.9241\n",
      "Epoch 31/50\n",
      "8821/8821 [==============================] - 13s 1ms/step - loss: 0.7703 - accuracy: 0.0036 - precision: 0.7665 - recall: 0.5976 - auc: 0.9264 - val_loss: 0.7797 - val_accuracy: 0.0033 - val_precision: 0.7555 - val_recall: 0.5902 - val_auc: 0.9244\n",
      "Epoch 32/50\n"
     ]
    },
    {
     "name": "stdout",
     "output_type": "stream",
     "text": [
      "8821/8821 [==============================] - 13s 1ms/step - loss: 0.7701 - accuracy: 0.0035 - precision: 0.7670 - recall: 0.5973 - auc: 0.9264 - val_loss: 0.7869 - val_accuracy: 0.0031 - val_precision: 0.7607 - val_recall: 0.5990 - val_auc: 0.9229\n",
      "Epoch 33/50\n",
      "8821/8821 [==============================] - 11s 1ms/step - loss: 0.7699 - accuracy: 0.0037 - precision: 0.7671 - recall: 0.5976 - auc: 0.9265 - val_loss: 0.7794 - val_accuracy: 0.0043 - val_precision: 0.7562 - val_recall: 0.6092 - val_auc: 0.9253\n",
      "Epoch 34/50\n",
      "8821/8821 [==============================] - 10s 1ms/step - loss: 0.7699 - accuracy: 0.0040 - precision: 0.7676 - recall: 0.5971 - auc: 0.9264 - val_loss: 0.8296 - val_accuracy: 0.0048 - val_precision: 0.7288 - val_recall: 0.5899 - val_auc: 0.9150\n",
      "Epoch 35/50\n",
      "8821/8821 [==============================] - 10s 1ms/step - loss: 0.7710 - accuracy: 0.0042 - precision: 0.7669 - recall: 0.5965 - auc: 0.9264 - val_loss: 0.7785 - val_accuracy: 0.0045 - val_precision: 0.7587 - val_recall: 0.6050 - val_auc: 0.9249\n",
      "Epoch 36/50\n",
      "8821/8821 [==============================] - 11s 1ms/step - loss: 0.7713 - accuracy: 0.0047 - precision: 0.7672 - recall: 0.5968 - auc: 0.9263 - val_loss: 0.7834 - val_accuracy: 0.0047 - val_precision: 0.7573 - val_recall: 0.5983 - val_auc: 0.9242\n",
      "Epoch 37/50\n",
      "8821/8821 [==============================] - 14s 2ms/step - loss: 0.7718 - accuracy: 0.0050 - precision: 0.7678 - recall: 0.5964 - auc: 0.9263 - val_loss: 0.7916 - val_accuracy: 0.0053 - val_precision: 0.7577 - val_recall: 0.5949 - val_auc: 0.9227\n",
      "Epoch 38/50\n",
      "8821/8821 [==============================] - 12s 1ms/step - loss: 0.7720 - accuracy: 0.0053 - precision: 0.7668 - recall: 0.5967 - auc: 0.9262 - val_loss: 0.8080 - val_accuracy: 0.0052 - val_precision: 0.7533 - val_recall: 0.5918 - val_auc: 0.9203\n",
      "Epoch 39/50\n",
      "8821/8821 [==============================] - 13s 2ms/step - loss: 0.7718 - accuracy: 0.0048 - precision: 0.7669 - recall: 0.5965 - auc: 0.9262 - val_loss: 0.7780 - val_accuracy: 0.0046 - val_precision: 0.7737 - val_recall: 0.5787 - val_auc: 0.9245\n",
      "Epoch 40/50\n",
      "8821/8821 [==============================] - 13s 2ms/step - loss: 0.7725 - accuracy: 0.0048 - precision: 0.7668 - recall: 0.5961 - auc: 0.9261 - val_loss: 0.8046 - val_accuracy: 0.0043 - val_precision: 0.7578 - val_recall: 0.5775 - val_auc: 0.9206\n",
      "Epoch 41/50\n",
      "8821/8821 [==============================] - 10s 1ms/step - loss: 0.7726 - accuracy: 0.0047 - precision: 0.7661 - recall: 0.5965 - auc: 0.9261 - val_loss: 0.7782 - val_accuracy: 0.0042 - val_precision: 0.7564 - val_recall: 0.5991 - val_auc: 0.9247\n",
      "Epoch 42/50\n",
      "8821/8821 [==============================] - 10s 1ms/step - loss: 0.7739 - accuracy: 0.0046 - precision: 0.7659 - recall: 0.5962 - auc: 0.9259 - val_loss: 0.8016 - val_accuracy: 0.0046 - val_precision: 0.7599 - val_recall: 0.5846 - val_auc: 0.9209\n",
      "Epoch 43/50\n",
      "8821/8821 [==============================] - 10s 1ms/step - loss: 0.7740 - accuracy: 0.0045 - precision: 0.7659 - recall: 0.5958 - auc: 0.9259 - val_loss: 0.7841 - val_accuracy: 0.0054 - val_precision: 0.7551 - val_recall: 0.6078 - val_auc: 0.9250\n",
      "Epoch 44/50\n",
      "8821/8821 [==============================] - 11s 1ms/step - loss: 0.7741 - accuracy: 0.0044 - precision: 0.7661 - recall: 0.5959 - auc: 0.9259 - val_loss: 0.8078 - val_accuracy: 0.0047 - val_precision: 0.7520 - val_recall: 0.5934 - val_auc: 0.9202\n",
      "Epoch 45/50\n",
      "8821/8821 [==============================] - 12s 1ms/step - loss: 0.7760 - accuracy: 0.0044 - precision: 0.7653 - recall: 0.5949 - auc: 0.9256 - val_loss: 0.8403 - val_accuracy: 0.0052 - val_precision: 0.7600 - val_recall: 0.5557 - val_auc: 0.9148\n",
      "Epoch 46/50\n",
      "8821/8821 [==============================] - 13s 1ms/step - loss: 0.7766 - accuracy: 0.0045 - precision: 0.7653 - recall: 0.5945 - auc: 0.9255 - val_loss: 0.8182 - val_accuracy: 0.0043 - val_precision: 0.7383 - val_recall: 0.6086 - val_auc: 0.9198\n",
      "Epoch 47/50\n",
      "8821/8821 [==============================] - 16s 2ms/step - loss: 0.7773 - accuracy: 0.0046 - precision: 0.7648 - recall: 0.5948 - auc: 0.9255 - val_loss: 0.7823 - val_accuracy: 0.0047 - val_precision: 0.7640 - val_recall: 0.5960 - val_auc: 0.9243\n",
      "Epoch 48/50\n",
      "8821/8821 [==============================] - 17s 2ms/step - loss: 0.7783 - accuracy: 0.0048 - precision: 0.7655 - recall: 0.5943 - auc: 0.9255 - val_loss: 0.7745 - val_accuracy: 0.0051 - val_precision: 0.7628 - val_recall: 0.6084 - val_auc: 0.9266\n",
      "Epoch 49/50\n",
      "8821/8821 [==============================] - 18s 2ms/step - loss: 0.7785 - accuracy: 0.0046 - precision: 0.7646 - recall: 0.5942 - auc: 0.9253 - val_loss: 0.7868 - val_accuracy: 0.0043 - val_precision: 0.7567 - val_recall: 0.6029 - val_auc: 0.9238\n",
      "Epoch 50/50\n",
      "8821/8821 [==============================] - 13s 1ms/step - loss: 0.7785 - accuracy: 0.0048 - precision: 0.7647 - recall: 0.5949 - auc: 0.9253 - val_loss: 0.7916 - val_accuracy: 0.0050 - val_precision: 0.7549 - val_recall: 0.5966 - val_auc: 0.9239\n"
     ]
    }
   ],
   "source": [
    "dense_history = dense_model.fit(\n",
    "                    train_data,\n",
    "                    train_labels,\n",
    "                    epochs=EPOCH,\n",
    "                    batch_size=BATCH_SIZE,\n",
    "                    validation_data=(val_data, val_labels))"
   ]
  },
  {
   "cell_type": "markdown",
   "id": "459fd679",
   "metadata": {},
   "source": [
    "#### 4.1.3 Evaulate Dense Model"
   ]
  },
  {
   "cell_type": "code",
   "execution_count": 30,
   "id": "7b9f3503",
   "metadata": {},
   "outputs": [
    {
     "name": "stdout",
     "output_type": "stream",
     "text": [
      "10861/10861 [==============================] - 16s 1ms/step - loss: 0.7944 - accuracy: 0.0047 - precision: 0.7549 - recall: 0.5955 - auc: 0.9236\n",
      "Test loss: 0.7943500280380249 / Test accuracy: 0.004730431362986565\n"
     ]
    }
   ],
   "source": [
    "score = dense_model.evaluate(test_data, test_labels, verbose=1)\n",
    "print(f'Test loss: {score[0]} / Test accuracy: {score[1]}')"
   ]
  },
  {
   "cell_type": "code",
   "execution_count": 31,
   "id": "980ddbf3",
   "metadata": {},
   "outputs": [
    {
     "data": {
      "image/png": "[encoded data removed]",
      "text/plain": [
       "<Figure size 1080x216 with 2 Axes>"
      ]
     },
     "metadata": {
      "needs_background": "light"
     },
     "output_type": "display_data"
    }
   ],
   "source": [
    "ploat_learning_cruve(dense_history)"
   ]
  },
  {
   "cell_type": "code",
   "execution_count": 32,
   "id": "aa8c5f52",
   "metadata": {},
   "outputs": [
    {
     "name": "stdout",
     "output_type": "stream",
     "text": [
      "10861/10861 [==============================] - 6s 554us/step\n"
     ]
    },
    {
     "data": {
      "image/png": "[encoded data removed]",
      "text/plain": [
       "<Figure size 432x288 with 2 Axes>"
      ]
     },
     "metadata": {
      "needs_background": "light"
     },
     "output_type": "display_data"
    }
   ],
   "source": [
    "test_labels_prediction = dense_model.predict(test_data)\n",
    "plot_confusion_matrix(test_data, test_labels, test_labels_prediction)"
   ]
  },
  {
   "cell_type": "markdown",
   "id": "b0e34253",
   "metadata": {},
   "source": [
    "### 4.2 Conv2D"
   ]
  },
  {
   "cell_type": "code",
   "execution_count": 153,
   "id": "2d8f855d",
   "metadata": {},
   "outputs": [],
   "source": [
    "def split_data_by_frame(df, label_name = \"ActivityCode\", test_size=0.33, train_columns = [\"X\", \"Y\", \"Z\"], frame_size = 100, time_step = 40):\n",
    "    X_list, y_list = [], []\n",
    "    for i in range(0, len(df) - frame_size, time_step):\n",
    "        x = df[train_columns[0]].values[i: i + frame_size]\n",
    "        y = df[train_columns[1]].values[i: i + frame_size]\n",
    "        z = df[train_columns[2]].values[i: i + frame_size]\n",
    "        \n",
    "        label = stats.mode(df[label_name][i: i + frame_size])[0][0]\n",
    "        X_list.append([x, y, z])\n",
    "        y_list.append(label)\n",
    "    \n",
    "    X_arr, y_arr = np.asarray(X_list, dtype=np.float32).reshape(-1, frame_size, len(train_columns), 1), np.array(y_list)\n",
    "    \n",
    "    X_train_val, X_test, y_train_val, y_test = train_test_split(X_arr, y_arr, test_size=0.33, random_state=42, shuffle=True)\n",
    "    X_train, X_val, y_train, y_val = train_test_split(X_train_val, y_train_val, test_size=0.2, random_state=42, shuffle=True)\n",
    "    y_train, y_test, y_val = to_categorical(y_train), to_categorical(y_test), to_categorical(y_val)\n",
    "    return (X_train, y_train), (X_test, y_test), (X_val, y_val)\n",
    "    "
   ]
  },
  {
   "cell_type": "code",
   "execution_count": 127,
   "id": "01a09fd2",
   "metadata": {},
   "outputs": [],
   "source": [
    "(train_data_conv2d, train_labels_conv2d),(test_data_conv2d, test_labels_conv2d),(val_data_conv2d, val_labels_conv2d)= split_data_by_frame(watch_accel)"
   ]
  },
  {
   "cell_type": "code",
   "execution_count": 128,
   "id": "cdcec29c",
   "metadata": {},
   "outputs": [
    {
     "name": "stdout",
     "output_type": "stream",
     "text": [
      "Inputs: Train: (14111, 100, 3, 1), Validation: (3528, 100, 3, 1), Test: (8688, 100, 3, 1)\n",
      "Labels: Train: (14111, 5), Validation: (3528, 5), Test: (8688, 5)\n"
     ]
    }
   ],
   "source": [
    "print(f\"Inputs: Train: {train_data_conv2d.shape}, Validation: {val_data_conv2d.shape}, Test: {test_data_conv2d.shape}\")\n",
    "print(f\"Labels: Train: {train_labels_conv2d.shape}, Validation: {val_labels_conv2d.shape}, Test: {test_labels_conv2d.shape}\")"
   ]
  },
  {
   "cell_type": "markdown",
   "id": "756ccc22",
   "metadata": {},
   "source": [
    "#### 4.2.1 Build Conv2D Model"
   ]
  },
  {
   "cell_type": "code",
   "execution_count": 154,
   "id": "48ae7028",
   "metadata": {},
   "outputs": [
    {
     "name": "stdout",
     "output_type": "stream",
     "text": [
      "Model: \"sequential_5\"\n",
      "_________________________________________________________________\n",
      " Layer (type)                Output Shape              Param #   \n",
      "=================================================================\n",
      " conv2d_6 (Conv2D)           (None, 99, 2, 16)         80        \n",
      "                                                                 \n",
      " dropout_10 (Dropout)        (None, 99, 2, 16)         0         \n",
      "                                                                 \n",
      " conv2d_7 (Conv2D)           (None, 98, 1, 32)         2080      \n",
      "                                                                 \n",
      " dropout_11 (Dropout)        (None, 98, 1, 32)         0         \n",
      "                                                                 \n",
      " flatten_3 (Flatten)         (None, 3136)              0         \n",
      "                                                                 \n",
      " dense_11 (Dense)            (None, 64)                200768    \n",
      "                                                                 \n",
      " dropout_12 (Dropout)        (None, 64)                0         \n",
      "                                                                 \n",
      " dense_12 (Dense)            (None, 5)                 325       \n",
      "                                                                 \n",
      "=================================================================\n",
      "Total params: 203,253\n",
      "Trainable params: 203,253\n",
      "Non-trainable params: 0\n",
      "_________________________________________________________________\n"
     ]
    }
   ],
   "source": [
    "conv2d_model = keras.Sequential([\n",
    "    layers.Conv2D(filters=16, kernel_size=2, input_shape=(100, 3, 1), activation='relu'),\n",
    "    layers.Dropout(0.1),\n",
    "    layers.Conv2D(filters=32, kernel_size=2, activation='relu'),\n",
    "    layers.Dropout(0.2),\n",
    "    layers.Flatten(),\n",
    "    layers.Dense(64, activation='relu'),\n",
    "    layers.Dropout(0.5),\n",
    "    layers.Dense(LABELS_LEN, activation='softmax')\n",
    "])\n",
    "conv2d_model.compile(optimizer=Adam(learning_rate = 0.001), loss=\"categorical_crossentropy\", metrics= METRICS)\n",
    "conv2d_model.summary()"
   ]
  },
  {
   "cell_type": "markdown",
   "id": "090604fc",
   "metadata": {},
   "source": [
    "#### 4.2.2 Train Conv2D Model"
   ]
  },
  {
   "cell_type": "code",
   "execution_count": 165,
   "id": "2fbe9032",
   "metadata": {},
   "outputs": [
    {
     "name": "stdout",
     "output_type": "stream",
     "text": [
      "Epoch 1/50\n",
      "221/221 [==============================] - 2s 8ms/step - loss: 4.3832 - accuracy: 0.6895 - val_loss: 0.6643 - val_accuracy: 0.8112\n",
      "Epoch 2/50\n",
      "221/221 [==============================] - 2s 8ms/step - loss: 0.5547 - accuracy: 0.7667 - val_loss: 0.5637 - val_accuracy: 0.8365\n",
      "Epoch 3/50\n",
      "221/221 [==============================] - 2s 7ms/step - loss: 0.4823 - accuracy: 0.7939 - val_loss: 0.6160 - val_accuracy: 0.8501\n",
      "Epoch 4/50\n",
      "221/221 [==============================] - 2s 8ms/step - loss: 0.4182 - accuracy: 0.8191 - val_loss: 0.5419 - val_accuracy: 0.8622\n",
      "Epoch 5/50\n",
      "221/221 [==============================] - 2s 10ms/step - loss: 0.3835 - accuracy: 0.8216 - val_loss: 0.6263 - val_accuracy: 0.8435\n",
      "Epoch 6/50\n",
      "221/221 [==============================] - 3s 15ms/step - loss: 0.3666 - accuracy: 0.8370 - val_loss: 0.5999 - val_accuracy: 0.8654\n",
      "Epoch 7/50\n",
      "221/221 [==============================] - 3s 13ms/step - loss: 0.3384 - accuracy: 0.8435 - val_loss: 0.5749 - val_accuracy: 0.8801\n",
      "Epoch 8/50\n",
      "221/221 [==============================] - 4s 16ms/step - loss: 0.3485 - accuracy: 0.8518 - val_loss: 0.4743 - val_accuracy: 0.8787\n",
      "Epoch 9/50\n",
      "221/221 [==============================] - 4s 16ms/step - loss: 0.3364 - accuracy: 0.8475 - val_loss: 0.4955 - val_accuracy: 0.8679\n",
      "Epoch 10/50\n",
      "221/221 [==============================] - 3s 14ms/step - loss: 0.3030 - accuracy: 0.8612 - val_loss: 0.5125 - val_accuracy: 0.8753\n",
      "Epoch 11/50\n",
      "221/221 [==============================] - 2s 11ms/step - loss: 0.3165 - accuracy: 0.8605 - val_loss: 0.5161 - val_accuracy: 0.8759\n",
      "Epoch 12/50\n",
      "221/221 [==============================] - 2s 11ms/step - loss: 0.2913 - accuracy: 0.8748 - val_loss: 0.5352 - val_accuracy: 0.8790\n",
      "Epoch 13/50\n",
      "221/221 [==============================] - 3s 13ms/step - loss: 0.2784 - accuracy: 0.8746 - val_loss: 0.5575 - val_accuracy: 0.8841\n",
      "Epoch 14/50\n",
      "221/221 [==============================] - 3s 13ms/step - loss: 0.2704 - accuracy: 0.8805 - val_loss: 0.5157 - val_accuracy: 0.8724\n",
      "Epoch 15/50\n",
      "221/221 [==============================] - 3s 12ms/step - loss: 0.2727 - accuracy: 0.8813 - val_loss: 0.4872 - val_accuracy: 0.8710\n",
      "Epoch 16/50\n",
      "221/221 [==============================] - 2s 11ms/step - loss: 0.2548 - accuracy: 0.8882 - val_loss: 0.5366 - val_accuracy: 0.8821\n",
      "Epoch 17/50\n",
      "221/221 [==============================] - 3s 12ms/step - loss: 0.2467 - accuracy: 0.8870 - val_loss: 0.5522 - val_accuracy: 0.8880\n",
      "Epoch 18/50\n",
      "221/221 [==============================] - 3s 14ms/step - loss: 0.2481 - accuracy: 0.8892 - val_loss: 0.5174 - val_accuracy: 0.8889\n",
      "Epoch 19/50\n",
      "221/221 [==============================] - 3s 13ms/step - loss: 0.2504 - accuracy: 0.8943 - val_loss: 0.4823 - val_accuracy: 0.8832\n",
      "Epoch 20/50\n",
      "221/221 [==============================] - 3s 13ms/step - loss: 0.2243 - accuracy: 0.9023 - val_loss: 0.5479 - val_accuracy: 0.8923\n",
      "Epoch 21/50\n",
      "221/221 [==============================] - 3s 15ms/step - loss: 0.2217 - accuracy: 0.9015 - val_loss: 0.5522 - val_accuracy: 0.8852\n",
      "Epoch 22/50\n",
      "221/221 [==============================] - 4s 16ms/step - loss: 0.2284 - accuracy: 0.9016 - val_loss: 0.4806 - val_accuracy: 0.8880\n",
      "Epoch 23/50\n",
      "221/221 [==============================] - 3s 16ms/step - loss: 0.2322 - accuracy: 0.9081 - val_loss: 0.5722 - val_accuracy: 0.8880\n",
      "Epoch 24/50\n",
      "221/221 [==============================] - 3s 14ms/step - loss: 0.2098 - accuracy: 0.9077 - val_loss: 0.5154 - val_accuracy: 0.8946\n",
      "Epoch 25/50\n",
      "221/221 [==============================] - 3s 13ms/step - loss: 0.2204 - accuracy: 0.9044 - val_loss: 0.5145 - val_accuracy: 0.8923\n",
      "Epoch 26/50\n",
      "221/221 [==============================] - 2s 10ms/step - loss: 0.2074 - accuracy: 0.9087 - val_loss: 0.5473 - val_accuracy: 0.8914\n",
      "Epoch 27/50\n",
      "221/221 [==============================] - 2s 11ms/step - loss: 0.2076 - accuracy: 0.9106 - val_loss: 0.5113 - val_accuracy: 0.8917\n",
      "Epoch 28/50\n",
      "221/221 [==============================] - 2s 11ms/step - loss: 0.2108 - accuracy: 0.9070 - val_loss: 0.5086 - val_accuracy: 0.8954\n",
      "Epoch 29/50\n",
      "221/221 [==============================] - 3s 12ms/step - loss: 0.2117 - accuracy: 0.9113 - val_loss: 0.5167 - val_accuracy: 0.8951\n",
      "Epoch 30/50\n",
      "221/221 [==============================] - 3s 11ms/step - loss: 0.1908 - accuracy: 0.9181 - val_loss: 0.4668 - val_accuracy: 0.8977\n",
      "Epoch 31/50\n",
      "221/221 [==============================] - 2s 11ms/step - loss: 0.2040 - accuracy: 0.9157 - val_loss: 0.5060 - val_accuracy: 0.8999\n",
      "Epoch 32/50\n",
      "221/221 [==============================] - 2s 11ms/step - loss: 0.1840 - accuracy: 0.9236 - val_loss: 0.4470 - val_accuracy: 0.9014\n",
      "Epoch 33/50\n",
      "221/221 [==============================] - 2s 11ms/step - loss: 0.1962 - accuracy: 0.9212 - val_loss: 0.4506 - val_accuracy: 0.9016\n",
      "Epoch 34/50\n",
      "221/221 [==============================] - 2s 11ms/step - loss: 0.1855 - accuracy: 0.9225 - val_loss: 0.4698 - val_accuracy: 0.9042\n",
      "Epoch 35/50\n",
      "221/221 [==============================] - 3s 12ms/step - loss: 0.1798 - accuracy: 0.9230 - val_loss: 0.4719 - val_accuracy: 0.9087\n",
      "Epoch 36/50\n",
      "221/221 [==============================] - 3s 12ms/step - loss: 0.1752 - accuracy: 0.9250 - val_loss: 0.4615 - val_accuracy: 0.9087\n",
      "Epoch 37/50\n",
      "221/221 [==============================] - 3s 12ms/step - loss: 0.1724 - accuracy: 0.9274 - val_loss: 0.4505 - val_accuracy: 0.9067\n",
      "Epoch 38/50\n",
      "221/221 [==============================] - 2s 11ms/step - loss: 0.1774 - accuracy: 0.9249 - val_loss: 0.4465 - val_accuracy: 0.8880\n",
      "Epoch 39/50\n",
      "221/221 [==============================] - 2s 11ms/step - loss: 0.1760 - accuracy: 0.9261 - val_loss: 0.4674 - val_accuracy: 0.9031\n",
      "Epoch 40/50\n",
      "221/221 [==============================] - 2s 11ms/step - loss: 0.1672 - accuracy: 0.9268 - val_loss: 0.4064 - val_accuracy: 0.9093\n",
      "Epoch 41/50\n",
      "221/221 [==============================] - 2s 11ms/step - loss: 0.1745 - accuracy: 0.9302 - val_loss: 0.3881 - val_accuracy: 0.9036\n",
      "Epoch 42/50\n",
      "221/221 [==============================] - 3s 12ms/step - loss: 0.1572 - accuracy: 0.9347 - val_loss: 0.3582 - val_accuracy: 0.9076\n",
      "Epoch 43/50\n",
      "221/221 [==============================] - 3s 14ms/step - loss: 0.1637 - accuracy: 0.9315 - val_loss: 0.4171 - val_accuracy: 0.9101\n",
      "Epoch 44/50\n",
      "221/221 [==============================] - 4s 17ms/step - loss: 0.1737 - accuracy: 0.9279 - val_loss: 0.4182 - val_accuracy: 0.9101\n",
      "Epoch 45/50\n",
      "221/221 [==============================] - 4s 16ms/step - loss: 0.1569 - accuracy: 0.9336 - val_loss: 0.3894 - val_accuracy: 0.8948\n",
      "Epoch 46/50\n",
      "221/221 [==============================] - 4s 17ms/step - loss: 0.1580 - accuracy: 0.9315 - val_loss: 0.4235 - val_accuracy: 0.9036\n",
      "Epoch 47/50\n",
      "221/221 [==============================] - 3s 15ms/step - loss: 0.1613 - accuracy: 0.9335 - val_loss: 0.4527 - val_accuracy: 0.9087\n",
      "Epoch 48/50\n",
      "221/221 [==============================] - 3s 15ms/step - loss: 0.1547 - accuracy: 0.9380 - val_loss: 0.4261 - val_accuracy: 0.9056\n",
      "Epoch 49/50\n",
      "221/221 [==============================] - 3s 15ms/step - loss: 0.1502 - accuracy: 0.9346 - val_loss: 0.3785 - val_accuracy: 0.9045\n",
      "Epoch 50/50\n",
      "221/221 [==============================] - 3s 16ms/step - loss: 0.1471 - accuracy: 0.9383 - val_loss: 0.4053 - val_accuracy: 0.8920\n"
     ]
    }
   ],
   "source": [
    "conv2d_model.compile(optimizer=Adam(learning_rate = 0.001), loss=\"categorical_crossentropy\", metrics= [\"accuracy\"])\n",
    "TRAIN_COLUMNS = [\"X_std\", \"Y_std\", \"Z_std\"]\n",
    "conv2d_history = conv2d_model.fit(train_data_conv2d,\n",
    "                    train_labels_conv2d,\n",
    "                    epochs=EPOCH,\n",
    "                    batch_size=BATCH_SIZE,\n",
    "                    validation_data=(val_data_conv2d, val_labels_conv2d))"
   ]
  },
  {
   "cell_type": "markdown",
   "id": "460ead78",
   "metadata": {},
   "source": [
    "#### 4.2.3 Evaulate Conv2D Model"
   ]
  },
  {
   "cell_type": "code",
   "execution_count": 168,
   "id": "21b3b200",
   "metadata": {},
   "outputs": [
    {
     "name": "stdout",
     "output_type": "stream",
     "text": [
      "272/272 [==============================] - 0s 1ms/step - loss: 0.4396 - accuracy: 0.8927\n",
      "Test loss: 0.4396263062953949 / Test accuracy: 0.8927255868911743\n"
     ]
    }
   ],
   "source": [
    "score = conv2d_model.evaluate(test_data_conv2d, test_labels_conv2d, verbose=1)\n",
    "print(f'Test loss: {score[0]} / Test accuracy: {score[1]}')"
   ]
  },
  {
   "cell_type": "code",
   "execution_count": 169,
   "id": "cc3c804b",
   "metadata": {},
   "outputs": [
    {
     "data": {
      "image/png": "[encoded data removed]",
      "text/plain": [
       "<Figure size 1080x216 with 2 Axes>"
      ]
     },
     "metadata": {
      "needs_background": "light"
     },
     "output_type": "display_data"
    }
   ],
   "source": [
    "ploat_learning_cruve(conv2d_history)"
   ]
  },
  {
   "cell_type": "code",
   "execution_count": 171,
   "id": "c307b3a5",
   "metadata": {},
   "outputs": [
    {
     "name": "stdout",
     "output_type": "stream",
     "text": [
      "272/272 [==============================] - 0s 1ms/step\n"
     ]
    },
    {
     "data": {
      "image/png": "[encoded data removed]",
      "text/plain": [
       "<Figure size 432x288 with 2 Axes>"
      ]
     },
     "metadata": {
      "needs_background": "light"
     },
     "output_type": "display_data"
    }
   ],
   "source": [
    "test_labels_prediction = conv2d_model.predict(test_data_conv2d)\n",
    "plot_confusion_matrix(test_data_conv2d, test_labels_conv2d, test_labels_prediction)"
   ]
  },
  {
   "cell_type": "markdown",
   "id": "7fd70f09",
   "metadata": {},
   "source": [
    "### 4.3 LSTM"
   ]
  },
  {
   "cell_type": "code",
   "execution_count": 172,
   "id": "4b1740d0",
   "metadata": {},
   "outputs": [],
   "source": [
    "(train_data_lstm, train_labels_lstm),(test_data_lstm, test_labels_lstm),(val_data_lstm, val_labels_lstm)= split_data_by_frame(watch_accel)"
   ]
  },
  {
   "cell_type": "code",
   "execution_count": 173,
   "id": "f97f88f5",
   "metadata": {},
   "outputs": [
    {
     "name": "stdout",
     "output_type": "stream",
     "text": [
      "Inputs: Train: (14111, 100, 3, 1), Validation: (3528, 100, 3, 1), Test: (8688, 100, 3, 1)\n",
      "Labels: Train: (14111, 5), Validation: (3528, 5), Test: (8688, 5)\n"
     ]
    }
   ],
   "source": [
    "print(f\"Inputs: Train: {train_data_lstm.shape}, Validation: {val_data_lstm.shape}, Test: {test_data_lstm.shape}\")\n",
    "print(f\"Labels: Train: {train_labels_lstm.shape}, Validation: {val_labels_lstm.shape}, Test: {test_labels_lstm.shape}\")"
   ]
  },
  {
   "cell_type": "markdown",
   "id": "14980fa3",
   "metadata": {},
   "source": [
    "#### 4.3.1 Build LSTM Model"
   ]
  },
  {
   "cell_type": "code",
   "execution_count": 174,
   "id": "6a584ce2",
   "metadata": {},
   "outputs": [
    {
     "name": "stdout",
     "output_type": "stream",
     "text": [
      "Model: \"sequential_6\"\n",
      "_________________________________________________________________\n",
      " Layer (type)                Output Shape              Param #   \n",
      "=================================================================\n",
      " lstm_1 (LSTM)               (None, 50)                10800     \n",
      "                                                                 \n",
      " dropout_13 (Dropout)        (None, 50)                0         \n",
      "                                                                 \n",
      " dense_13 (Dense)            (None, 50)                2550      \n",
      "                                                                 \n",
      " dense_14 (Dense)            (None, 5)                 255       \n",
      "                                                                 \n",
      "=================================================================\n",
      "Total params: 13,605\n",
      "Trainable params: 13,605\n",
      "Non-trainable params: 0\n",
      "_________________________________________________________________\n"
     ]
    }
   ],
   "source": [
    "model_lstm = keras.Sequential([\n",
    "    layers.LSTM(50, input_shape=(100, 3)),\n",
    "    layers.Dropout(0.5),\n",
    "    layers.Dense(50, activation='relu'),\n",
    "    layers.Dense(LABELS_LEN, activation='softmax')\n",
    "])\n",
    "model_lstm.compile(optimizer=Adam(learning_rate = 0.001), loss=\"categorical_crossentropy\", metrics= [\"accuracy\"])\n",
    "model_lstm.summary()"
   ]
  },
  {
   "cell_type": "markdown",
   "id": "8f3c851c",
   "metadata": {},
   "source": [
    "#### 4.3.2 Train LSTM Model"
   ]
  },
  {
   "cell_type": "code",
   "execution_count": 175,
   "id": "fe8462dd",
   "metadata": {},
   "outputs": [
    {
     "name": "stdout",
     "output_type": "stream",
     "text": [
      "Epoch 1/50\n",
      "221/221 [==============================] - 10s 40ms/step - loss: 1.0907 - accuracy: 0.5416 - val_loss: 0.6777 - val_accuracy: 0.7109\n",
      "Epoch 2/50\n",
      "221/221 [==============================] - 11s 51ms/step - loss: 0.7198 - accuracy: 0.6834 - val_loss: 0.6753 - val_accuracy: 0.6868\n",
      "Epoch 3/50\n",
      "221/221 [==============================] - 12s 55ms/step - loss: 0.6532 - accuracy: 0.7040 - val_loss: 0.5859 - val_accuracy: 0.7355\n",
      "Epoch 4/50\n",
      "221/221 [==============================] - 11s 49ms/step - loss: 0.6116 - accuracy: 0.7208 - val_loss: 0.5672 - val_accuracy: 0.7506\n",
      "Epoch 5/50\n",
      "221/221 [==============================] - 12s 53ms/step - loss: 0.6086 - accuracy: 0.7247 - val_loss: 0.6678 - val_accuracy: 0.7069\n",
      "Epoch 6/50\n",
      "221/221 [==============================] - 12s 54ms/step - loss: 0.5920 - accuracy: 0.7334 - val_loss: 0.5552 - val_accuracy: 0.7429\n",
      "Epoch 7/50\n",
      "221/221 [==============================] - 11s 52ms/step - loss: 0.5595 - accuracy: 0.7531 - val_loss: 0.5299 - val_accuracy: 0.7803\n",
      "Epoch 8/50\n",
      "221/221 [==============================] - 12s 53ms/step - loss: 0.5315 - accuracy: 0.7739 - val_loss: 0.5172 - val_accuracy: 0.7772\n",
      "Epoch 9/50\n",
      "221/221 [==============================] - 11s 51ms/step - loss: 0.5290 - accuracy: 0.7753 - val_loss: 0.4946 - val_accuracy: 0.7948\n",
      "Epoch 10/50\n",
      "221/221 [==============================] - 14s 62ms/step - loss: 0.5158 - accuracy: 0.7778 - val_loss: 0.4704 - val_accuracy: 0.7999\n",
      "Epoch 11/50\n",
      "221/221 [==============================] - 11s 50ms/step - loss: 0.4908 - accuracy: 0.7931 - val_loss: 0.4975 - val_accuracy: 0.7905\n",
      "Epoch 12/50\n",
      "221/221 [==============================] - 12s 53ms/step - loss: 0.5038 - accuracy: 0.7864 - val_loss: 0.4646 - val_accuracy: 0.8118\n",
      "Epoch 13/50\n",
      "221/221 [==============================] - 13s 57ms/step - loss: 0.4780 - accuracy: 0.7991 - val_loss: 0.4562 - val_accuracy: 0.8073\n",
      "Epoch 14/50\n",
      "221/221 [==============================] - 14s 62ms/step - loss: 0.4599 - accuracy: 0.8104 - val_loss: 0.4481 - val_accuracy: 0.8121\n",
      "Epoch 15/50\n",
      "221/221 [==============================] - 10s 47ms/step - loss: 0.4989 - accuracy: 0.7967 - val_loss: 0.4993 - val_accuracy: 0.7931\n",
      "Epoch 16/50\n",
      "221/221 [==============================] - 11s 48ms/step - loss: 0.4723 - accuracy: 0.8078 - val_loss: 0.4332 - val_accuracy: 0.8223\n",
      "Epoch 17/50\n",
      "221/221 [==============================] - 11s 49ms/step - loss: 0.4378 - accuracy: 0.8223 - val_loss: 0.4154 - val_accuracy: 0.8336\n",
      "Epoch 18/50\n",
      "221/221 [==============================] - 12s 52ms/step - loss: 0.4210 - accuracy: 0.8293 - val_loss: 0.3963 - val_accuracy: 0.8435\n",
      "Epoch 19/50\n",
      "221/221 [==============================] - 11s 48ms/step - loss: 0.4101 - accuracy: 0.8366 - val_loss: 0.3826 - val_accuracy: 0.8492\n",
      "Epoch 20/50\n",
      "221/221 [==============================] - 10s 46ms/step - loss: 0.3991 - accuracy: 0.8435 - val_loss: 0.3675 - val_accuracy: 0.8543\n",
      "Epoch 21/50\n",
      "221/221 [==============================] - 9s 42ms/step - loss: 0.3822 - accuracy: 0.8496 - val_loss: 0.4089 - val_accuracy: 0.8472\n",
      "Epoch 22/50\n",
      "221/221 [==============================] - 9s 42ms/step - loss: 0.3786 - accuracy: 0.8542 - val_loss: 0.3505 - val_accuracy: 0.8679\n",
      "Epoch 23/50\n",
      "221/221 [==============================] - 10s 43ms/step - loss: 0.3581 - accuracy: 0.8652 - val_loss: 0.3428 - val_accuracy: 0.8747\n",
      "Epoch 24/50\n",
      "221/221 [==============================] - 10s 44ms/step - loss: 0.3554 - accuracy: 0.8686 - val_loss: 0.3391 - val_accuracy: 0.8753\n",
      "Epoch 25/50\n",
      "221/221 [==============================] - 9s 43ms/step - loss: 0.3447 - accuracy: 0.8682 - val_loss: 0.3412 - val_accuracy: 0.8688\n",
      "Epoch 26/50\n",
      "221/221 [==============================] - 10s 43ms/step - loss: 0.3390 - accuracy: 0.8753 - val_loss: 0.3342 - val_accuracy: 0.8741\n",
      "Epoch 27/50\n",
      "221/221 [==============================] - 9s 42ms/step - loss: 0.3355 - accuracy: 0.8722 - val_loss: 0.3233 - val_accuracy: 0.8773\n",
      "Epoch 28/50\n",
      "221/221 [==============================] - 10s 48ms/step - loss: 0.3297 - accuracy: 0.8779 - val_loss: 0.3223 - val_accuracy: 0.8812\n",
      "Epoch 29/50\n",
      "221/221 [==============================] - 16s 72ms/step - loss: 0.3140 - accuracy: 0.8813 - val_loss: 0.3273 - val_accuracy: 0.8793\n",
      "Epoch 30/50\n",
      "221/221 [==============================] - 15s 66ms/step - loss: 0.3154 - accuracy: 0.8810 - val_loss: 0.3255 - val_accuracy: 0.8784\n",
      "Epoch 31/50\n",
      "221/221 [==============================] - 13s 58ms/step - loss: 0.3066 - accuracy: 0.8868 - val_loss: 0.3339 - val_accuracy: 0.8759\n",
      "Epoch 32/50\n",
      "221/221 [==============================] - 12s 55ms/step - loss: 0.3314 - accuracy: 0.8765 - val_loss: 0.3336 - val_accuracy: 0.8705\n",
      "Epoch 33/50\n",
      "221/221 [==============================] - 13s 57ms/step - loss: 0.3154 - accuracy: 0.8834 - val_loss: 0.3061 - val_accuracy: 0.8855\n",
      "Epoch 34/50\n",
      "221/221 [==============================] - 12s 56ms/step - loss: 0.3488 - accuracy: 0.8707 - val_loss: 0.3158 - val_accuracy: 0.8787\n",
      "Epoch 35/50\n",
      "221/221 [==============================] - 11s 49ms/step - loss: 0.3077 - accuracy: 0.8878 - val_loss: 0.3148 - val_accuracy: 0.8835\n",
      "Epoch 36/50\n",
      "221/221 [==============================] - 12s 54ms/step - loss: 0.2991 - accuracy: 0.8903 - val_loss: 0.3078 - val_accuracy: 0.8812\n",
      "Epoch 37/50\n",
      "221/221 [==============================] - 10s 45ms/step - loss: 0.2914 - accuracy: 0.8937 - val_loss: 0.3077 - val_accuracy: 0.8829\n",
      "Epoch 38/50\n",
      "221/221 [==============================] - 11s 52ms/step - loss: 0.2906 - accuracy: 0.8946 - val_loss: 0.3126 - val_accuracy: 0.8827\n",
      "Epoch 39/50\n",
      "221/221 [==============================] - 12s 54ms/step - loss: 0.2752 - accuracy: 0.9009 - val_loss: 0.3161 - val_accuracy: 0.8821\n",
      "Epoch 40/50\n",
      "221/221 [==============================] - 11s 51ms/step - loss: 0.2748 - accuracy: 0.9024 - val_loss: 0.2882 - val_accuracy: 0.8954\n",
      "Epoch 41/50\n",
      "221/221 [==============================] - 11s 50ms/step - loss: 0.2685 - accuracy: 0.9051 - val_loss: 0.2874 - val_accuracy: 0.8963\n",
      "Epoch 42/50\n",
      "221/221 [==============================] - 11s 49ms/step - loss: 0.2693 - accuracy: 0.9036 - val_loss: 0.2958 - val_accuracy: 0.8906\n",
      "Epoch 43/50\n",
      "221/221 [==============================] - 10s 46ms/step - loss: 0.2662 - accuracy: 0.9066 - val_loss: 0.3127 - val_accuracy: 0.8878\n",
      "Epoch 44/50\n",
      "221/221 [==============================] - 12s 55ms/step - loss: 0.2633 - accuracy: 0.9061 - val_loss: 0.2977 - val_accuracy: 0.8951\n",
      "Epoch 45/50\n",
      "221/221 [==============================] - 11s 50ms/step - loss: 0.2620 - accuracy: 0.9078 - val_loss: 0.2987 - val_accuracy: 0.8957\n",
      "Epoch 46/50\n",
      "221/221 [==============================] - 11s 50ms/step - loss: 0.2517 - accuracy: 0.9092 - val_loss: 0.2761 - val_accuracy: 0.9050\n",
      "Epoch 47/50\n",
      "221/221 [==============================] - 11s 48ms/step - loss: 0.2692 - accuracy: 0.9018 - val_loss: 0.3168 - val_accuracy: 0.8804\n",
      "Epoch 48/50\n",
      "221/221 [==============================] - 10s 44ms/step - loss: 0.2632 - accuracy: 0.9049 - val_loss: 0.2866 - val_accuracy: 0.9002\n",
      "Epoch 49/50\n",
      "221/221 [==============================] - 10s 45ms/step - loss: 0.2490 - accuracy: 0.9130 - val_loss: 0.3149 - val_accuracy: 0.8849\n",
      "Epoch 50/50\n",
      "221/221 [==============================] - 10s 44ms/step - loss: 0.2487 - accuracy: 0.9108 - val_loss: 0.2804 - val_accuracy: 0.8965\n"
     ]
    }
   ],
   "source": [
    "model_lstm.compile(optimizer=Adam(learning_rate = 0.001), loss=\"categorical_crossentropy\", metrics=[\"accuracy\"])\n",
    "TRAIN_COLUMNS = [\"X_std\", \"Y_std\", \"Z_std\"]\n",
    "lstm_history = model_lstm.fit(train_data_lstm,\n",
    "                    train_labels_lstm,\n",
    "                    epochs=EPOCH,\n",
    "                    batch_size=BATCH_SIZE,\n",
    "                    validation_data=(val_data_lstm, val_labels_lstm))"
   ]
  },
  {
   "cell_type": "markdown",
   "id": "f6e2c0d6",
   "metadata": {},
   "source": [
    "#### 4.3.3 Evaulate LSTM Model"
   ]
  },
  {
   "cell_type": "code",
   "execution_count": null,
   "id": "1c6346dd",
   "metadata": {},
   "outputs": [],
   "source": [
    "score = model_lstm.evaluate(test_data_lstm, test_labels_lstm, verbose=1)\n",
    "print(f'Test loss: {score[0]} / Test accuracy: {score[1]}')"
   ]
  },
  {
   "cell_type": "code",
   "execution_count": null,
   "id": "a2f1226a",
   "metadata": {},
   "outputs": [],
   "source": [
    "ploat_learning_cruve(lstm_history)"
   ]
  },
  {
   "cell_type": "code",
   "execution_count": null,
   "id": "0b4c3db9",
   "metadata": {},
   "outputs": [],
   "source": [
    "test_labels_prediction = model_lstm.predict(test_data_lstm)\n",
    "plot_confusion_matrix(test_data_lstm, test_labels_lstm, test_labels_prediction)"
   ]
  }
 ],
 "metadata": {
  "kernelspec": {
   "display_name": "Python 3 (ipykernel)",
   "language": "python",
   "name": "python3"
  },
  "language_info": {
   "codemirror_mode": {
    "name": "ipython",
    "version": 3
   },
   "file_extension": ".py",
   "mimetype": "text/x-python",
   "name": "python",
   "nbconvert_exporter": "python",
   "pygments_lexer": "ipython3",
   "version": "3.8.10"
  }
 },
 "nbformat": 4,
 "nbformat_minor": 5
}
